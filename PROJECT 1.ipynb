{
 "cells": [
  {
   "cell_type": "markdown",
   "id": "1fb6dba6",
   "metadata": {},
   "source": [
    "## collections — Container datatypes\n",
    "**This module implements specialized container datatypes providing alternatives to Python’s general purpose built-in containers, dict, list, set, and tuple.**\n",
    "\n",
    "## Counter objects\n",
    "**A Counter is a dict subclass for counting hashable objects. It is a collection where elements are stored as dictionary keys and their counts are stored as dictionary values.**\n",
    "\n",
    "    >>> cnt = Counter()\n",
    "    >>> for word in ['red', 'blue', 'red', 'green', 'blue', 'blue']:\n",
    "    ...     cnt[word] += 1\n",
    "    >>> cnt\n",
    "    Counter({'blue': 3, 'red': 2, 'green': 1})"
   ]
  },
  {
   "cell_type": "markdown",
   "id": "736f66e0",
   "metadata": {},
   "source": [
    "## itertools — Functions creating iterators for efficient looping"
   ]
  },
  {
   "cell_type": "code",
   "execution_count": 2,
   "id": "6c2f201a",
   "metadata": {},
   "outputs": [],
   "source": [
    "import numpy as np # linear algebra\n",
    "import pandas as pd # data processing, CSV file I/O (e.g. pd.read_csv)\n",
    "import matplotlib.pyplot as plt #for plotting\n",
    "import seaborn as sns"
   ]
  },
  {
   "cell_type": "code",
   "execution_count": 3,
   "id": "e96978e2",
   "metadata": {},
   "outputs": [],
   "source": [
    "from collections import Counter\n",
    "import itertools\n",
    "from subprocess import check_output"
   ]
  },
  {
   "cell_type": "code",
   "execution_count": 4,
   "id": "315f540c",
   "metadata": {},
   "outputs": [],
   "source": [
    "%matplotlib inline"
   ]
  },
  {
   "cell_type": "code",
   "execution_count": 5,
   "id": "86b96d50",
   "metadata": {},
   "outputs": [
    {
     "name": "stdout",
     "output_type": "stream",
     "text": [
      " Volume in drive C is Acer\r\n",
      " Volume Serial Number is 303E-8E3D\r\n",
      "\r\n",
      " Directory of C:\\Users\\Aryan Yadav\\Documents\\Jupyter NBS\\input\r\n",
      "\r\n",
      "21-05-21  11:20    <DIR>          .\r\n",
      "21-05-21  11:20    <DIR>          ..\r\n",
      "21-05-21  11:17           240'909 sample_submission.csv\r\n",
      "21-05-21  11:19        51'118'296 test.csv\r\n",
      "21-05-21  11:19        76'775'041 train.csv\r\n",
      "               3 File(s)    128'134'246 bytes\r\n",
      "               2 Dir(s)  560'565'039'104 bytes free\r\n",
      "\n"
     ]
    }
   ],
   "source": [
    "print(check_output([\"dir\", \"C:\\\\Users\\\\Aryan Yadav\\\\Documents\\\\Jupyter NBS\\\\input\"],shell=True).decode(\"utf8\"))"
   ]
  },
  {
   "cell_type": "code",
   "execution_count": 6,
   "id": "16637533",
   "metadata": {},
   "outputs": [
    {
     "name": "stdout",
     "output_type": "stream",
     "text": [
      "(42000, 785)\n"
     ]
    },
    {
     "data": {
      "text/html": [
       "<div>\n",
       "<style scoped>\n",
       "    .dataframe tbody tr th:only-of-type {\n",
       "        vertical-align: middle;\n",
       "    }\n",
       "\n",
       "    .dataframe tbody tr th {\n",
       "        vertical-align: top;\n",
       "    }\n",
       "\n",
       "    .dataframe thead th {\n",
       "        text-align: right;\n",
       "    }\n",
       "</style>\n",
       "<table border=\"1\" class=\"dataframe\">\n",
       "  <thead>\n",
       "    <tr style=\"text-align: right;\">\n",
       "      <th></th>\n",
       "      <th>label</th>\n",
       "      <th>pixel0</th>\n",
       "      <th>pixel1</th>\n",
       "      <th>pixel2</th>\n",
       "      <th>pixel3</th>\n",
       "      <th>pixel4</th>\n",
       "      <th>pixel5</th>\n",
       "      <th>pixel6</th>\n",
       "      <th>pixel7</th>\n",
       "      <th>pixel8</th>\n",
       "      <th>...</th>\n",
       "      <th>pixel774</th>\n",
       "      <th>pixel775</th>\n",
       "      <th>pixel776</th>\n",
       "      <th>pixel777</th>\n",
       "      <th>pixel778</th>\n",
       "      <th>pixel779</th>\n",
       "      <th>pixel780</th>\n",
       "      <th>pixel781</th>\n",
       "      <th>pixel782</th>\n",
       "      <th>pixel783</th>\n",
       "    </tr>\n",
       "  </thead>\n",
       "  <tbody>\n",
       "    <tr>\n",
       "      <th>0</th>\n",
       "      <td>1</td>\n",
       "      <td>0</td>\n",
       "      <td>0</td>\n",
       "      <td>0</td>\n",
       "      <td>0</td>\n",
       "      <td>0</td>\n",
       "      <td>0</td>\n",
       "      <td>0</td>\n",
       "      <td>0</td>\n",
       "      <td>0</td>\n",
       "      <td>...</td>\n",
       "      <td>0</td>\n",
       "      <td>0</td>\n",
       "      <td>0</td>\n",
       "      <td>0</td>\n",
       "      <td>0</td>\n",
       "      <td>0</td>\n",
       "      <td>0</td>\n",
       "      <td>0</td>\n",
       "      <td>0</td>\n",
       "      <td>0</td>\n",
       "    </tr>\n",
       "    <tr>\n",
       "      <th>1</th>\n",
       "      <td>0</td>\n",
       "      <td>0</td>\n",
       "      <td>0</td>\n",
       "      <td>0</td>\n",
       "      <td>0</td>\n",
       "      <td>0</td>\n",
       "      <td>0</td>\n",
       "      <td>0</td>\n",
       "      <td>0</td>\n",
       "      <td>0</td>\n",
       "      <td>...</td>\n",
       "      <td>0</td>\n",
       "      <td>0</td>\n",
       "      <td>0</td>\n",
       "      <td>0</td>\n",
       "      <td>0</td>\n",
       "      <td>0</td>\n",
       "      <td>0</td>\n",
       "      <td>0</td>\n",
       "      <td>0</td>\n",
       "      <td>0</td>\n",
       "    </tr>\n",
       "    <tr>\n",
       "      <th>2</th>\n",
       "      <td>1</td>\n",
       "      <td>0</td>\n",
       "      <td>0</td>\n",
       "      <td>0</td>\n",
       "      <td>0</td>\n",
       "      <td>0</td>\n",
       "      <td>0</td>\n",
       "      <td>0</td>\n",
       "      <td>0</td>\n",
       "      <td>0</td>\n",
       "      <td>...</td>\n",
       "      <td>0</td>\n",
       "      <td>0</td>\n",
       "      <td>0</td>\n",
       "      <td>0</td>\n",
       "      <td>0</td>\n",
       "      <td>0</td>\n",
       "      <td>0</td>\n",
       "      <td>0</td>\n",
       "      <td>0</td>\n",
       "      <td>0</td>\n",
       "    </tr>\n",
       "    <tr>\n",
       "      <th>3</th>\n",
       "      <td>4</td>\n",
       "      <td>0</td>\n",
       "      <td>0</td>\n",
       "      <td>0</td>\n",
       "      <td>0</td>\n",
       "      <td>0</td>\n",
       "      <td>0</td>\n",
       "      <td>0</td>\n",
       "      <td>0</td>\n",
       "      <td>0</td>\n",
       "      <td>...</td>\n",
       "      <td>0</td>\n",
       "      <td>0</td>\n",
       "      <td>0</td>\n",
       "      <td>0</td>\n",
       "      <td>0</td>\n",
       "      <td>0</td>\n",
       "      <td>0</td>\n",
       "      <td>0</td>\n",
       "      <td>0</td>\n",
       "      <td>0</td>\n",
       "    </tr>\n",
       "    <tr>\n",
       "      <th>4</th>\n",
       "      <td>0</td>\n",
       "      <td>0</td>\n",
       "      <td>0</td>\n",
       "      <td>0</td>\n",
       "      <td>0</td>\n",
       "      <td>0</td>\n",
       "      <td>0</td>\n",
       "      <td>0</td>\n",
       "      <td>0</td>\n",
       "      <td>0</td>\n",
       "      <td>...</td>\n",
       "      <td>0</td>\n",
       "      <td>0</td>\n",
       "      <td>0</td>\n",
       "      <td>0</td>\n",
       "      <td>0</td>\n",
       "      <td>0</td>\n",
       "      <td>0</td>\n",
       "      <td>0</td>\n",
       "      <td>0</td>\n",
       "      <td>0</td>\n",
       "    </tr>\n",
       "  </tbody>\n",
       "</table>\n",
       "<p>5 rows × 785 columns</p>\n",
       "</div>"
      ],
      "text/plain": [
       "   label  pixel0  pixel1  pixel2  pixel3  pixel4  pixel5  pixel6  pixel7  \\\n",
       "0      1       0       0       0       0       0       0       0       0   \n",
       "1      0       0       0       0       0       0       0       0       0   \n",
       "2      1       0       0       0       0       0       0       0       0   \n",
       "3      4       0       0       0       0       0       0       0       0   \n",
       "4      0       0       0       0       0       0       0       0       0   \n",
       "\n",
       "   pixel8  ...  pixel774  pixel775  pixel776  pixel777  pixel778  pixel779  \\\n",
       "0       0  ...         0         0         0         0         0         0   \n",
       "1       0  ...         0         0         0         0         0         0   \n",
       "2       0  ...         0         0         0         0         0         0   \n",
       "3       0  ...         0         0         0         0         0         0   \n",
       "4       0  ...         0         0         0         0         0         0   \n",
       "\n",
       "   pixel780  pixel781  pixel782  pixel783  \n",
       "0         0         0         0         0  \n",
       "1         0         0         0         0  \n",
       "2         0         0         0         0  \n",
       "3         0         0         0         0  \n",
       "4         0         0         0         0  \n",
       "\n",
       "[5 rows x 785 columns]"
      ]
     },
     "execution_count": 6,
     "metadata": {},
     "output_type": "execute_result"
    }
   ],
   "source": [
    "#loading the dataset\n",
    "df = pd.read_csv(\"input/train.csv\")\n",
    "print(df.shape)\n",
    "df.head()"
   ]
  },
  {
   "cell_type": "markdown",
   "id": "410aa610",
   "metadata": {},
   "source": [
    "### pixel value ranges from 0 to 255 (both inclusive)"
   ]
  },
  {
   "cell_type": "code",
   "execution_count": 7,
   "id": "abd58d9b",
   "metadata": {},
   "outputs": [
    {
     "data": {
      "text/plain": [
       "Counter({1: 4684,\n",
       "         0: 4132,\n",
       "         4: 4072,\n",
       "         7: 4401,\n",
       "         3: 4351,\n",
       "         5: 3795,\n",
       "         8: 4063,\n",
       "         9: 4188,\n",
       "         2: 4177,\n",
       "         6: 4137})"
      ]
     },
     "execution_count": 7,
     "metadata": {},
     "output_type": "execute_result"
    }
   ],
   "source": [
    "label_cnt = Counter(df['label'])\n",
    "label_cnt"
   ]
  },
  {
   "cell_type": "code",
   "execution_count": 8,
   "id": "09bbf21b",
   "metadata": {},
   "outputs": [
    {
     "data": {
      "text/plain": [
       "<AxesSubplot:xlabel='label', ylabel='count'>"
      ]
     },
     "execution_count": 8,
     "metadata": {},
     "output_type": "execute_result"
    },
    {
     "data": {
      "image/png": "[encoded data removed]",
      "text/plain": [
       "<Figure size 432x288 with 1 Axes>"
      ]
     },
     "metadata": {
      "needs_background": "light"
     },
     "output_type": "display_data"
    }
   ],
   "source": [
    "sns.countplot(x='label',data=df) # to check if the classes are balanced"
   ]
  },
  {
   "cell_type": "code",
   "execution_count": 9,
   "id": "7ecbbb37",
   "metadata": {},
   "outputs": [
    {
     "name": "stdout",
     "output_type": "stream",
     "text": [
      "(28000, 784)\n"
     ]
    },
    {
     "data": {
      "text/html": [
       "<div>\n",
       "<style scoped>\n",
       "    .dataframe tbody tr th:only-of-type {\n",
       "        vertical-align: middle;\n",
       "    }\n",
       "\n",
       "    .dataframe tbody tr th {\n",
       "        vertical-align: top;\n",
       "    }\n",
       "\n",
       "    .dataframe thead th {\n",
       "        text-align: right;\n",
       "    }\n",
       "</style>\n",
       "<table border=\"1\" class=\"dataframe\">\n",
       "  <thead>\n",
       "    <tr style=\"text-align: right;\">\n",
       "      <th></th>\n",
       "      <th>pixel0</th>\n",
       "      <th>pixel1</th>\n",
       "      <th>pixel2</th>\n",
       "      <th>pixel3</th>\n",
       "      <th>pixel4</th>\n",
       "      <th>pixel5</th>\n",
       "      <th>pixel6</th>\n",
       "      <th>pixel7</th>\n",
       "      <th>pixel8</th>\n",
       "      <th>pixel9</th>\n",
       "      <th>...</th>\n",
       "      <th>pixel774</th>\n",
       "      <th>pixel775</th>\n",
       "      <th>pixel776</th>\n",
       "      <th>pixel777</th>\n",
       "      <th>pixel778</th>\n",
       "      <th>pixel779</th>\n",
       "      <th>pixel780</th>\n",
       "      <th>pixel781</th>\n",
       "      <th>pixel782</th>\n",
       "      <th>pixel783</th>\n",
       "    </tr>\n",
       "  </thead>\n",
       "  <tbody>\n",
       "    <tr>\n",
       "      <th>0</th>\n",
       "      <td>0</td>\n",
       "      <td>0</td>\n",
       "      <td>0</td>\n",
       "      <td>0</td>\n",
       "      <td>0</td>\n",
       "      <td>0</td>\n",
       "      <td>0</td>\n",
       "      <td>0</td>\n",
       "      <td>0</td>\n",
       "      <td>0</td>\n",
       "      <td>...</td>\n",
       "      <td>0</td>\n",
       "      <td>0</td>\n",
       "      <td>0</td>\n",
       "      <td>0</td>\n",
       "      <td>0</td>\n",
       "      <td>0</td>\n",
       "      <td>0</td>\n",
       "      <td>0</td>\n",
       "      <td>0</td>\n",
       "      <td>0</td>\n",
       "    </tr>\n",
       "    <tr>\n",
       "      <th>1</th>\n",
       "      <td>0</td>\n",
       "      <td>0</td>\n",
       "      <td>0</td>\n",
       "      <td>0</td>\n",
       "      <td>0</td>\n",
       "      <td>0</td>\n",
       "      <td>0</td>\n",
       "      <td>0</td>\n",
       "      <td>0</td>\n",
       "      <td>0</td>\n",
       "      <td>...</td>\n",
       "      <td>0</td>\n",
       "      <td>0</td>\n",
       "      <td>0</td>\n",
       "      <td>0</td>\n",
       "      <td>0</td>\n",
       "      <td>0</td>\n",
       "      <td>0</td>\n",
       "      <td>0</td>\n",
       "      <td>0</td>\n",
       "      <td>0</td>\n",
       "    </tr>\n",
       "    <tr>\n",
       "      <th>2</th>\n",
       "      <td>0</td>\n",
       "      <td>0</td>\n",
       "      <td>0</td>\n",
       "      <td>0</td>\n",
       "      <td>0</td>\n",
       "      <td>0</td>\n",
       "      <td>0</td>\n",
       "      <td>0</td>\n",
       "      <td>0</td>\n",
       "      <td>0</td>\n",
       "      <td>...</td>\n",
       "      <td>0</td>\n",
       "      <td>0</td>\n",
       "      <td>0</td>\n",
       "      <td>0</td>\n",
       "      <td>0</td>\n",
       "      <td>0</td>\n",
       "      <td>0</td>\n",
       "      <td>0</td>\n",
       "      <td>0</td>\n",
       "      <td>0</td>\n",
       "    </tr>\n",
       "    <tr>\n",
       "      <th>3</th>\n",
       "      <td>0</td>\n",
       "      <td>0</td>\n",
       "      <td>0</td>\n",
       "      <td>0</td>\n",
       "      <td>0</td>\n",
       "      <td>0</td>\n",
       "      <td>0</td>\n",
       "      <td>0</td>\n",
       "      <td>0</td>\n",
       "      <td>0</td>\n",
       "      <td>...</td>\n",
       "      <td>0</td>\n",
       "      <td>0</td>\n",
       "      <td>0</td>\n",
       "      <td>0</td>\n",
       "      <td>0</td>\n",
       "      <td>0</td>\n",
       "      <td>0</td>\n",
       "      <td>0</td>\n",
       "      <td>0</td>\n",
       "      <td>0</td>\n",
       "    </tr>\n",
       "    <tr>\n",
       "      <th>4</th>\n",
       "      <td>0</td>\n",
       "      <td>0</td>\n",
       "      <td>0</td>\n",
       "      <td>0</td>\n",
       "      <td>0</td>\n",
       "      <td>0</td>\n",
       "      <td>0</td>\n",
       "      <td>0</td>\n",
       "      <td>0</td>\n",
       "      <td>0</td>\n",
       "      <td>...</td>\n",
       "      <td>0</td>\n",
       "      <td>0</td>\n",
       "      <td>0</td>\n",
       "      <td>0</td>\n",
       "      <td>0</td>\n",
       "      <td>0</td>\n",
       "      <td>0</td>\n",
       "      <td>0</td>\n",
       "      <td>0</td>\n",
       "      <td>0</td>\n",
       "    </tr>\n",
       "  </tbody>\n",
       "</table>\n",
       "<p>5 rows × 784 columns</p>\n",
       "</div>"
      ],
      "text/plain": [
       "   pixel0  pixel1  pixel2  pixel3  pixel4  pixel5  pixel6  pixel7  pixel8  \\\n",
       "0       0       0       0       0       0       0       0       0       0   \n",
       "1       0       0       0       0       0       0       0       0       0   \n",
       "2       0       0       0       0       0       0       0       0       0   \n",
       "3       0       0       0       0       0       0       0       0       0   \n",
       "4       0       0       0       0       0       0       0       0       0   \n",
       "\n",
       "   pixel9  ...  pixel774  pixel775  pixel776  pixel777  pixel778  pixel779  \\\n",
       "0       0  ...         0         0         0         0         0         0   \n",
       "1       0  ...         0         0         0         0         0         0   \n",
       "2       0  ...         0         0         0         0         0         0   \n",
       "3       0  ...         0         0         0         0         0         0   \n",
       "4       0  ...         0         0         0         0         0         0   \n",
       "\n",
       "   pixel780  pixel781  pixel782  pixel783  \n",
       "0         0         0         0         0  \n",
       "1         0         0         0         0  \n",
       "2         0         0         0         0  \n",
       "3         0         0         0         0  \n",
       "4         0         0         0         0  \n",
       "\n",
       "[5 rows x 784 columns]"
      ]
     },
     "execution_count": 9,
     "metadata": {},
     "output_type": "execute_result"
    }
   ],
   "source": [
    "#loading the test dataset\n",
    "df2= pd.read_csv(\"input/test.csv\")\n",
    "print(df2.shape)\n",
    "df2.head()"
   ]
  },
  {
   "cell_type": "code",
   "execution_count": 10,
   "id": "fbe8bae9",
   "metadata": {},
   "outputs": [],
   "source": [
    "X = df.drop('label',axis=1).values.astype('float32') # casting will be useful in normalising later on\n",
    "y = df['label'].values.astype('int32')\n",
    "X_test = df2.values.astype('float32')"
   ]
  },
  {
   "cell_type": "markdown",
   "id": "b77a8cb8",
   "metadata": {},
   "source": [
    "## pandas.DataFrame.astype\n",
    "**Cast a pandas object to a specified dtype dtype.**                                                                           \n",
    "**work with numpy arrays too**"
   ]
  },
  {
   "cell_type": "markdown",
   "id": "35bb7720",
   "metadata": {},
   "source": [
    "## The imshow() function in pyplot module of matplotlib library is used to display data as an image; i.e. on a 2D regular raster."
   ]
  },
  {
   "cell_type": "code",
   "execution_count": 11,
   "id": "85f466ed",
   "metadata": {},
   "outputs": [
    {
     "data": {
      "image/png": "[encoded data removed]",
      "text/plain": [
       "<Figure size 864x720 with 40 Axes>"
      ]
     },
     "metadata": {
      "needs_background": "light"
     },
     "output_type": "display_data"
    }
   ],
   "source": [
    "plt.figure(figsize=(12,10))\n",
    "itr1, itr2 = 10, 4\n",
    "for i in range(40):  \n",
    "    plt.subplot(itr2, itr1, i+1)\n",
    "    plt.imshow(X[i].reshape((28,28)),interpolation='nearest',cmap='gray')\n",
    "plt.tight_layout()\n",
    "plt.show()"
   ]
  },
  {
   "cell_type": "code",
   "execution_count": 12,
   "id": "19309ab2",
   "metadata": {},
   "outputs": [
    {
     "name": "stdout",
     "output_type": "stream",
     "text": [
      "42000 training samples\n",
      "28000 test samples\n"
     ]
    }
   ],
   "source": [
    "train_samples = len(X)\n",
    "print(\"{} training samples\".format(train_samples))\n",
    "test_samples = len(X_test)\n",
    "print(\"{} test samples\".format(test_samples))"
   ]
  },
  {
   "cell_type": "code",
   "execution_count": 13,
   "id": "94b4b7c9",
   "metadata": {},
   "outputs": [],
   "source": [
    "X = X/255.0  # scaling the pixel values between 0 and 1\n",
    "X_test = X_test/255.0"
   ]
  },
  {
   "cell_type": "code",
   "execution_count": 14,
   "id": "c4bd85e5",
   "metadata": {},
   "outputs": [],
   "source": [
    "X = X.reshape(X.shape[0], 28, 28,1)\n",
    "X_test = X_test.reshape(X_test.shape[0], 28, 28,1)"
   ]
  },
  {
   "cell_type": "markdown",
   "id": "34d34de0",
   "metadata": {},
   "source": [
    "**The images are 28x28 and 1 color channel (i.e. grayscale rather than something like 3 for RGB)**                             \n",
    "**The 2D convolution layer in Keras expects the number of channels (by default as the last dimension).**"
   ]
  },
  {
   "cell_type": "code",
   "execution_count": 15,
   "id": "f9398ef7",
   "metadata": {},
   "outputs": [],
   "source": [
    "import keras\n",
    "from keras.models import Sequential\n",
    "from keras.layers import Dense, Dropout, Flatten, Conv2D, MaxPool2D\n",
    "from keras.layers.normalization import BatchNormalization\n",
    "from keras.preprocessing.image import ImageDataGenerator\n",
    "from keras.callbacks import ReduceLROnPlateau\n",
    "from sklearn.model_selection import train_test_split\n",
    "batch_size = 64\n",
    "num_classes = 10\n",
    "epochs = 20\n",
    "input_shape = (28, 28, 1)"
   ]
  },
  {
   "cell_type": "markdown",
   "id": "df730219",
   "metadata": {},
   "source": [
    "## converting class vectors to binary class matrices by One Hot Encoding is an important step for multi class classification"
   ]
  },
  {
   "cell_type": "code",
   "execution_count": 16,
   "id": "114ae179",
   "metadata": {},
   "outputs": [],
   "source": [
    "y = keras.utils.np_utils.to_categorical(y, num_classes)"
   ]
  },
  {
   "cell_type": "code",
   "execution_count": 17,
   "id": "46717963",
   "metadata": {},
   "outputs": [
    {
     "data": {
      "text/plain": [
       "array([[0., 1., 0., ..., 0., 0., 0.],\n",
       "       [1., 0., 0., ..., 0., 0., 0.],\n",
       "       [0., 1., 0., ..., 0., 0., 0.],\n",
       "       ...,\n",
       "       [0., 0., 0., ..., 1., 0., 0.],\n",
       "       [0., 0., 0., ..., 0., 0., 0.],\n",
       "       [0., 0., 0., ..., 0., 0., 1.]], dtype=float32)"
      ]
     },
     "execution_count": 17,
     "metadata": {},
     "output_type": "execute_result"
    }
   ],
   "source": [
    "y"
   ]
  },
  {
   "cell_type": "code",
   "execution_count": 18,
   "id": "7e091771",
   "metadata": {},
   "outputs": [],
   "source": [
    "X_train, X_val, Y_train, Y_val = train_test_split(X, y, test_size = 0.1, random_state=42)"
   ]
  },
  {
   "cell_type": "markdown",
   "id": "b80d3489",
   "metadata": {},
   "source": [
    " ## 2D Convolutional Layers\n",
    " - When using Convo2D layer as the first layer in a model, provide the keyword argument **input_shape** (tuple of integers)   \n",
    "    e.g. `input_shape=(128, 128, 3)` for 128x128 RGB pictures                                                                   \n",
    " - **filters** = Integer, the dimensionality of the output space (i.e. the number of output filters in the convolution).       \n",
    " - **kernel_size** =  An integer or tuple/list of 2 integers, specifying the height and width of the 2D convolution window. Can     be a single integer to specify the same value for all spatial dimensions.                                                   \n",
    " - **kernel_initializer** = Initializer for the kernel weights matrix. Defaults to 'glorot_uniform'.\n",
    " - **padding** = one of `\"valid\"` or `\"same\"` (case-insensitive).\n",
    "    `\"valid\"` means no padding. `\"same\"` results in padding with zeros evenly\n",
    "    to the left/right or up/down of the input such that output has the same\n",
    "    height/width dimension as the input."
   ]
  },
  {
   "cell_type": "markdown",
   "id": "3eb60a3a",
   "metadata": {},
   "source": [
    "## Max Pooling layer (for 2D spatial data)\n",
    "- Downsamples the input along its spatial dimensions (height and width) by taking the maximum value over an input window (of   size defined by 'pool_size') for each channel of the input. The window is shifted by 'strides' along each dimension.\n",
    "- strides = If None, it will default to 'pool_size'."
   ]
  },
  {
   "cell_type": "markdown",
   "id": "e2497e14",
   "metadata": {},
   "source": [
    "## ReduceLROnPlateau (Callback)\n",
    "- Models often benefit from reducing the learning rate by a factor of 2-10 once learning stagnates. This callback monitors a quantity and if no improvement is seen for a 'patience' number of epochs, the learning rate is reduced."
   ]
  },
  {
   "cell_type": "markdown",
   "id": "a24755c7",
   "metadata": {},
   "source": [
    "## ImageDataGenerator ( to add rotated and scaled data)\n",
    "- **Generate batches of tensor image data with real-time data augmentation.**\n",
    "- Data augmentation in data analysis are techniques used to increase the amount of data by adding slightly modified copies of already existing data or newly created synthetic data from existing data. It acts as a regularizer and helps reduce overfitting when training a machine learning model."
   ]
  },
  {
   "cell_type": "markdown",
   "id": "ad2c7321",
   "metadata": {},
   "source": [
    "## Batch Normalisation\n",
    "- Batch normalization is a technique for training very deep neural networks that standardizes the inputs to a layer for each mini-batch. This has the effect of stabilizing the learning process and dramatically reducing the number of training epochs required to train deep networks."
   ]
  },
  {
   "cell_type": "code",
   "execution_count": 19,
   "id": "1c62b2b5",
   "metadata": {},
   "outputs": [],
   "source": [
    "model = Sequential()\n",
    "model.add(Conv2D(32, kernel_size=(3, 3),activation='relu',kernel_initializer='he_normal',input_shape=input_shape))\n",
    "model.add(Conv2D(32, kernel_size=(3, 3),activation='relu',kernel_initializer='he_normal'))\n",
    "model.add(MaxPool2D((2, 2)))\n",
    "model.add(Dropout(0.20))\n",
    "model.add(Conv2D(64, (3, 3), activation='relu',padding='same',kernel_initializer='he_normal'))\n",
    "model.add(Conv2D(64, (3, 3), activation='relu',padding='same',kernel_initializer='he_normal'))\n",
    "model.add(MaxPool2D(pool_size=(2, 2)))\n",
    "model.add(Dropout(0.25))\n",
    "model.add(Conv2D(128, (3, 3), activation='relu',padding='same',kernel_initializer='he_normal'))\n",
    "model.add(Dropout(0.25))\n",
    "model.add(Flatten())\n",
    "model.add(Dense(128, activation='relu'))\n",
    "model.add(BatchNormalization())\n",
    "model.add(Dropout(0.25))\n",
    "model.add(Dense(num_classes, activation='softmax'))\n",
    "\n",
    "model.compile(loss='categorical_crossentropy',\n",
    "              optimizer='rmsprop',\n",
    "              metrics=['accuracy'])\n",
    "learning_rate_reduction = ReduceLROnPlateau(monitor='val_accuracy', \n",
    "                                            patience=3, \n",
    "                                            verbose=1, \n",
    "                                            factor=0.5, \n",
    "                                            min_lr=0.0001) # min_lr = lower bound on the learning rate\n",
    "                                                           # factor =  factor by which the learning rate will be reduced.\n",
    "\n",
    "datagen = ImageDataGenerator(\n",
    "        featurewise_center=False,  # set input mean to 0 over the dataset\n",
    "        samplewise_center=False,  # set each sample mean to 0\n",
    "        featurewise_std_normalization=False,  # divide inputs by std of the dataset\n",
    "        samplewise_std_normalization=False,  # divide each input by its std\n",
    "        zca_whitening=False,  # apply ZCA whitening\n",
    "        rotation_range=15, # randomly rotate images in the range (degrees, 0 to 180)\n",
    "        zoom_range = 0.1, # Randomly zoom image \n",
    "        width_shift_range=0.1,  # randomly shift images horizontally (fraction of total width)\n",
    "        height_shift_range=0.1,  # randomly shift images vertically (fraction of total height)\n",
    "        horizontal_flip=False,  # randomly flip images\n",
    "        vertical_flip=False)  # randomly flip images"
   ]
  },
  {
   "cell_type": "code",
   "execution_count": 20,
   "id": "5e39bf0c",
   "metadata": {},
   "outputs": [
    {
     "name": "stdout",
     "output_type": "stream",
     "text": [
      "Model: \"sequential\"\n",
      "_________________________________________________________________\n",
      "Layer (type)                 Output Shape              Param #   \n",
      "=================================================================\n",
      "conv2d (Conv2D)              (None, 26, 26, 32)        320       \n",
      "_________________________________________________________________\n",
      "conv2d_1 (Conv2D)            (None, 24, 24, 32)        9248      \n",
      "_________________________________________________________________\n",
      "max_pooling2d (MaxPooling2D) (None, 12, 12, 32)        0         \n",
      "_________________________________________________________________\n",
      "dropout (Dropout)            (None, 12, 12, 32)        0         \n",
      "_________________________________________________________________\n",
      "conv2d_2 (Conv2D)            (None, 12, 12, 64)        18496     \n",
      "_________________________________________________________________\n",
      "conv2d_3 (Conv2D)            (None, 12, 12, 64)        36928     \n",
      "_________________________________________________________________\n",
      "max_pooling2d_1 (MaxPooling2 (None, 6, 6, 64)          0         \n",
      "_________________________________________________________________\n",
      "dropout_1 (Dropout)          (None, 6, 6, 64)          0         \n",
      "_________________________________________________________________\n",
      "conv2d_4 (Conv2D)            (None, 6, 6, 128)         73856     \n",
      "_________________________________________________________________\n",
      "dropout_2 (Dropout)          (None, 6, 6, 128)         0         \n",
      "_________________________________________________________________\n",
      "flatten (Flatten)            (None, 4608)              0         \n",
      "_________________________________________________________________\n",
      "dense (Dense)                (None, 128)               589952    \n",
      "_________________________________________________________________\n",
      "batch_normalization (BatchNo (None, 128)               512       \n",
      "_________________________________________________________________\n",
      "dropout_3 (Dropout)          (None, 128)               0         \n",
      "_________________________________________________________________\n",
      "dense_1 (Dense)              (None, 10)                1290      \n",
      "=================================================================\n",
      "Total params: 730,602\n",
      "Trainable params: 730,346\n",
      "Non-trainable params: 256\n",
      "_________________________________________________________________\n"
     ]
    }
   ],
   "source": [
    "model.summary()"
   ]
  },
  {
   "cell_type": "code",
   "execution_count": 22,
   "id": "7eab7580",
   "metadata": {},
   "outputs": [
    {
     "name": "stdout",
     "output_type": "stream",
     "text": [
      "Epoch 1/20\n",
      "590/590 [==============================] - 125s 179ms/step - loss: 0.3519 - accuracy: 0.8896 - val_loss: 0.0556 - val_accuracy: 0.9821\n",
      "Epoch 2/20\n",
      "590/590 [==============================] - 103s 174ms/step - loss: 0.1121 - accuracy: 0.9666 - val_loss: 0.0375 - val_accuracy: 0.9883\n",
      "Epoch 3/20\n",
      "590/590 [==============================] - 101s 170ms/step - loss: 0.0831 - accuracy: 0.9745 - val_loss: 0.0544 - val_accuracy: 0.9840\n",
      "Epoch 4/20\n",
      "590/590 [==============================] - 109s 184ms/step - loss: 0.0709 - accuracy: 0.9786 - val_loss: 0.0501 - val_accuracy: 0.9857\n",
      "Epoch 5/20\n",
      "590/590 [==============================] - 117s 197ms/step - loss: 0.0602 - accuracy: 0.9811 - val_loss: 0.0322 - val_accuracy: 0.9900\n",
      "Epoch 6/20\n",
      "590/590 [==============================] - 116s 196ms/step - loss: 0.0552 - accuracy: 0.9832 - val_loss: 0.0298 - val_accuracy: 0.9905\n",
      "Epoch 7/20\n",
      "590/590 [==============================] - 105s 178ms/step - loss: 0.0523 - accuracy: 0.9838 - val_loss: 0.0458 - val_accuracy: 0.9840\n",
      "Epoch 8/20\n",
      "590/590 [==============================] - 110s 187ms/step - loss: 0.0506 - accuracy: 0.9850 - val_loss: 0.0341 - val_accuracy: 0.9898\n",
      "Epoch 9/20\n",
      "590/590 [==============================] - 97s 165ms/step - loss: 0.0450 - accuracy: 0.9863 - val_loss: 0.0263 - val_accuracy: 0.9924\n",
      "Epoch 10/20\n",
      "590/590 [==============================] - 83s 140ms/step - loss: 0.0438 - accuracy: 0.9866 - val_loss: 0.0278 - val_accuracy: 0.9898\n",
      "Epoch 11/20\n",
      "590/590 [==============================] - 87s 148ms/step - loss: 0.0451 - accuracy: 0.9865 - val_loss: 0.0218 - val_accuracy: 0.9931\n",
      "Epoch 12/20\n",
      "590/590 [==============================] - 84s 142ms/step - loss: 0.0382 - accuracy: 0.9884 - val_loss: 0.0314 - val_accuracy: 0.9912\n",
      "Epoch 13/20\n",
      "590/590 [==============================] - 86s 146ms/step - loss: 0.0401 - accuracy: 0.9878 - val_loss: 0.0299 - val_accuracy: 0.9910\n",
      "Epoch 14/20\n",
      "590/590 [==============================] - 83s 141ms/step - loss: 0.0371 - accuracy: 0.9888 - val_loss: 0.0467 - val_accuracy: 0.9874\n",
      "\n",
      "Epoch 00014: ReduceLROnPlateau reducing learning rate to 0.0005000000237487257.\n",
      "Epoch 15/20\n",
      "590/590 [==============================] - 82s 139ms/step - loss: 0.0325 - accuracy: 0.9904 - val_loss: 0.0197 - val_accuracy: 0.9938\n",
      "Epoch 16/20\n",
      "590/590 [==============================] - 84s 143ms/step - loss: 0.0297 - accuracy: 0.9911 - val_loss: 0.0288 - val_accuracy: 0.9919\n",
      "Epoch 17/20\n",
      "590/590 [==============================] - 82s 140ms/step - loss: 0.0299 - accuracy: 0.9912 - val_loss: 0.0216 - val_accuracy: 0.9943\n",
      "Epoch 18/20\n",
      "590/590 [==============================] - 85s 143ms/step - loss: 0.0276 - accuracy: 0.9918 - val_loss: 0.0257 - val_accuracy: 0.9938\n",
      "Epoch 19/20\n",
      "590/590 [==============================] - 81s 137ms/step - loss: 0.0287 - accuracy: 0.9914 - val_loss: 0.0233 - val_accuracy: 0.9933\n",
      "Epoch 20/20\n",
      "590/590 [==============================] - 83s 140ms/step - loss: 0.0287 - accuracy: 0.9908 - val_loss: 0.0217 - val_accuracy: 0.9936\n",
      "\n",
      "Epoch 00020: ReduceLROnPlateau reducing learning rate to 0.0002500000118743628.\n"
     ]
    }
   ],
   "source": [
    "datagen.fit(X_train)\n",
    "data_generator = datagen.flow(X_train,Y_train, batch_size=batch_size);\n",
    "h = model.fit(data_generator,\n",
    "              epochs = epochs, validation_data = (X_val,Y_val),\n",
    "              verbose = 1, steps_per_epoch=X_train.shape[0] // batch_size\n",
    "              , callbacks=[learning_rate_reduction]) # // -> floor division "
   ]
  },
  {
   "cell_type": "markdown",
   "id": "f08f6c35",
   "metadata": {},
   "source": [
    "## Image Processing API of Keras\n",
    "- **datagen** = ImageDataGenerator() :  Image Data Generator created and configured\n",
    "- **datagen.fit(train)** you must fit the generator on your data . This will calculate any statistics required to actually perform the transforms to your image data.\n",
    "- **datagen.flow(X_train,Y_train,batch_size=32)** An Iterator yielding tuples of (x, y) where x is a numpy array of image data (in the case of a single image input) or batches of numpy arrays (in the case with additional inputs) and y is a numpy array of corresponding labels. (default batch_size=32)"
   ]
  },
  {
   "cell_type": "code",
   "execution_count": 23,
   "id": "9bd2c87f",
   "metadata": {},
   "outputs": [
    {
     "name": "stdout",
     "output_type": "stream",
     "text": [
      "Final loss: 0.021707, final accuracy: 0.993571\n"
     ]
    }
   ],
   "source": [
    "final_loss, final_acc = model.evaluate(X_val, Y_val, verbose=0)\n",
    "print(\"Final loss: {0:.6f}, final accuracy: {1:.6f}\".format(final_loss, final_acc))"
   ]
  },
  {
   "cell_type": "markdown",
   "id": "cb2a0030",
   "metadata": {},
   "source": [
    "## HOW TO GET PREDICTED CLASSES OF A MULTI-CLASS CLASSIFICATION"
   ]
  },
  {
   "cell_type": "code",
   "execution_count": 24,
   "id": "400bbdd7",
   "metadata": {},
   "outputs": [],
   "source": [
    "Y_pred = model.predict(X_val)"
   ]
  },
  {
   "cell_type": "code",
   "execution_count": 25,
   "id": "a740b728",
   "metadata": {},
   "outputs": [
    {
     "data": {
      "text/plain": [
       "array([[7.4264400e-10, 1.9908521e-09, 4.3674872e-06, ..., 5.1348420e-10,\n",
       "        9.9999344e-01, 2.1429391e-06],\n",
       "       [3.2102443e-07, 9.9999452e-01, 1.3839592e-06, ..., 6.0598205e-07,\n",
       "        4.6721720e-08, 1.3657649e-07],\n",
       "       [1.0063596e-07, 1.0778359e-09, 6.6468623e-08, ..., 7.6525311e-07,\n",
       "        4.3843988e-07, 9.9999726e-01],\n",
       "       ...,\n",
       "       [1.1992996e-05, 5.2509272e-06, 1.0257480e-03, ..., 9.9822348e-01,\n",
       "        1.8773052e-06, 7.4054460e-06],\n",
       "       [5.4468057e-08, 2.0670539e-09, 4.4083217e-06, ..., 9.9999368e-01,\n",
       "        1.6006899e-09, 7.0539492e-08],\n",
       "       [2.8853001e-12, 5.8735715e-13, 1.8436392e-12, ..., 5.2296654e-13,\n",
       "        4.4364645e-09, 6.0065647e-10]], dtype=float32)"
      ]
     },
     "execution_count": 25,
     "metadata": {},
     "output_type": "execute_result"
    }
   ],
   "source": [
    "Y_pred"
   ]
  },
  {
   "cell_type": "code",
   "execution_count": 27,
   "id": "e9f54abd",
   "metadata": {},
   "outputs": [],
   "source": [
    "predictions = np.argmax(model.predict(X_val), axis=-1)"
   ]
  },
  {
   "cell_type": "code",
   "execution_count": 30,
   "id": "72c8e5a4",
   "metadata": {},
   "outputs": [
    {
     "data": {
      "text/plain": [
       "array([8, 1, 9, ..., 7, 7, 5], dtype=int64)"
      ]
     },
     "execution_count": 30,
     "metadata": {},
     "output_type": "execute_result"
    }
   ],
   "source": [
    "predictions"
   ]
  },
  {
   "cell_type": "markdown",
   "id": "08b13349",
   "metadata": {},
   "source": [
    "## Getting class values from One Hot Encoding"
   ]
  },
  {
   "cell_type": "code",
   "execution_count": 33,
   "id": "6281c9f8",
   "metadata": {},
   "outputs": [
    {
     "data": {
      "text/plain": [
       "array([8, 1, 9, ..., 7, 7, 5], dtype=int64)"
      ]
     },
     "execution_count": 33,
     "metadata": {},
     "output_type": "execute_result"
    }
   ],
   "source": [
    "Y_true = np.argmax(Y_val, axis = 1) \n",
    "Y_true"
   ]
  },
  {
   "cell_type": "code",
   "execution_count": 55,
   "id": "6e173492",
   "metadata": {},
   "outputs": [
    {
     "data": {
      "text/plain": [
       "Text(0.5, 69.0, 'Predicted label')"
      ]
     },
     "execution_count": 55,
     "metadata": {},
     "output_type": "execute_result"
    },
    {
     "data": {
      "image/png": "[encoded data removed]",
      "text/plain": [
       "<Figure size 720x720 with 1 Axes>"
      ]
     },
     "metadata": {
      "needs_background": "light"
     },
     "output_type": "display_data"
    }
   ],
   "source": [
    "from sklearn.metrics import confusion_matrix\n",
    "plt.figure(figsize=(10,10))\n",
    "sns.heatmap(confusion_matrix(Y_true,predictions),cmap='Blues',annot=True,fmt='g',linecolor='black',linewidth=1,cbar=False)\n",
    "plt.ylabel('True label')\n",
    "plt.xlabel('Predicted label')"
   ]
  },
  {
   "cell_type": "code",
   "execution_count": 69,
   "id": "39829d64",
   "metadata": {},
   "outputs": [
    {
     "data": {
      "text/html": [
       "<div>\n",
       "<style scoped>\n",
       "    .dataframe tbody tr th:only-of-type {\n",
       "        vertical-align: middle;\n",
       "    }\n",
       "\n",
       "    .dataframe tbody tr th {\n",
       "        vertical-align: top;\n",
       "    }\n",
       "\n",
       "    .dataframe thead th {\n",
       "        text-align: right;\n",
       "    }\n",
       "</style>\n",
       "<table border=\"1\" class=\"dataframe\">\n",
       "  <thead>\n",
       "    <tr style=\"text-align: right;\">\n",
       "      <th></th>\n",
       "      <th>loss</th>\n",
       "      <th>accuracy</th>\n",
       "      <th>val_loss</th>\n",
       "      <th>val_accuracy</th>\n",
       "      <th>lr</th>\n",
       "    </tr>\n",
       "  </thead>\n",
       "  <tbody>\n",
       "    <tr>\n",
       "      <th>0</th>\n",
       "      <td>0.351879</td>\n",
       "      <td>0.889628</td>\n",
       "      <td>0.055569</td>\n",
       "      <td>0.982143</td>\n",
       "      <td>0.0010</td>\n",
       "    </tr>\n",
       "    <tr>\n",
       "      <th>1</th>\n",
       "      <td>0.112138</td>\n",
       "      <td>0.966584</td>\n",
       "      <td>0.037544</td>\n",
       "      <td>0.988333</td>\n",
       "      <td>0.0010</td>\n",
       "    </tr>\n",
       "    <tr>\n",
       "      <th>2</th>\n",
       "      <td>0.083053</td>\n",
       "      <td>0.974534</td>\n",
       "      <td>0.054431</td>\n",
       "      <td>0.984048</td>\n",
       "      <td>0.0010</td>\n",
       "    </tr>\n",
       "    <tr>\n",
       "      <th>3</th>\n",
       "      <td>0.070854</td>\n",
       "      <td>0.978641</td>\n",
       "      <td>0.050118</td>\n",
       "      <td>0.985714</td>\n",
       "      <td>0.0010</td>\n",
       "    </tr>\n",
       "    <tr>\n",
       "      <th>4</th>\n",
       "      <td>0.060215</td>\n",
       "      <td>0.981106</td>\n",
       "      <td>0.032247</td>\n",
       "      <td>0.990000</td>\n",
       "      <td>0.0010</td>\n",
       "    </tr>\n",
       "    <tr>\n",
       "      <th>5</th>\n",
       "      <td>0.055217</td>\n",
       "      <td>0.983173</td>\n",
       "      <td>0.029822</td>\n",
       "      <td>0.990476</td>\n",
       "      <td>0.0010</td>\n",
       "    </tr>\n",
       "    <tr>\n",
       "      <th>6</th>\n",
       "      <td>0.052300</td>\n",
       "      <td>0.983756</td>\n",
       "      <td>0.045765</td>\n",
       "      <td>0.984048</td>\n",
       "      <td>0.0010</td>\n",
       "    </tr>\n",
       "    <tr>\n",
       "      <th>7</th>\n",
       "      <td>0.050647</td>\n",
       "      <td>0.985001</td>\n",
       "      <td>0.034097</td>\n",
       "      <td>0.989762</td>\n",
       "      <td>0.0010</td>\n",
       "    </tr>\n",
       "    <tr>\n",
       "      <th>8</th>\n",
       "      <td>0.045040</td>\n",
       "      <td>0.986273</td>\n",
       "      <td>0.026338</td>\n",
       "      <td>0.992381</td>\n",
       "      <td>0.0010</td>\n",
       "    </tr>\n",
       "    <tr>\n",
       "      <th>9</th>\n",
       "      <td>0.043811</td>\n",
       "      <td>0.986591</td>\n",
       "      <td>0.027833</td>\n",
       "      <td>0.989762</td>\n",
       "      <td>0.0010</td>\n",
       "    </tr>\n",
       "    <tr>\n",
       "      <th>10</th>\n",
       "      <td>0.045118</td>\n",
       "      <td>0.986485</td>\n",
       "      <td>0.021812</td>\n",
       "      <td>0.993095</td>\n",
       "      <td>0.0010</td>\n",
       "    </tr>\n",
       "    <tr>\n",
       "      <th>11</th>\n",
       "      <td>0.038223</td>\n",
       "      <td>0.988367</td>\n",
       "      <td>0.031420</td>\n",
       "      <td>0.991190</td>\n",
       "      <td>0.0010</td>\n",
       "    </tr>\n",
       "    <tr>\n",
       "      <th>12</th>\n",
       "      <td>0.040076</td>\n",
       "      <td>0.987837</td>\n",
       "      <td>0.029933</td>\n",
       "      <td>0.990952</td>\n",
       "      <td>0.0010</td>\n",
       "    </tr>\n",
       "    <tr>\n",
       "      <th>13</th>\n",
       "      <td>0.037070</td>\n",
       "      <td>0.988764</td>\n",
       "      <td>0.046695</td>\n",
       "      <td>0.987381</td>\n",
       "      <td>0.0010</td>\n",
       "    </tr>\n",
       "    <tr>\n",
       "      <th>14</th>\n",
       "      <td>0.032518</td>\n",
       "      <td>0.990407</td>\n",
       "      <td>0.019685</td>\n",
       "      <td>0.993810</td>\n",
       "      <td>0.0005</td>\n",
       "    </tr>\n",
       "    <tr>\n",
       "      <th>15</th>\n",
       "      <td>0.029743</td>\n",
       "      <td>0.991070</td>\n",
       "      <td>0.028778</td>\n",
       "      <td>0.991905</td>\n",
       "      <td>0.0005</td>\n",
       "    </tr>\n",
       "    <tr>\n",
       "      <th>16</th>\n",
       "      <td>0.029858</td>\n",
       "      <td>0.991176</td>\n",
       "      <td>0.021612</td>\n",
       "      <td>0.994286</td>\n",
       "      <td>0.0005</td>\n",
       "    </tr>\n",
       "    <tr>\n",
       "      <th>17</th>\n",
       "      <td>0.027591</td>\n",
       "      <td>0.991759</td>\n",
       "      <td>0.025716</td>\n",
       "      <td>0.993810</td>\n",
       "      <td>0.0005</td>\n",
       "    </tr>\n",
       "    <tr>\n",
       "      <th>18</th>\n",
       "      <td>0.028661</td>\n",
       "      <td>0.991414</td>\n",
       "      <td>0.023325</td>\n",
       "      <td>0.993333</td>\n",
       "      <td>0.0005</td>\n",
       "    </tr>\n",
       "    <tr>\n",
       "      <th>19</th>\n",
       "      <td>0.028749</td>\n",
       "      <td>0.990752</td>\n",
       "      <td>0.021707</td>\n",
       "      <td>0.993571</td>\n",
       "      <td>0.0005</td>\n",
       "    </tr>\n",
       "  </tbody>\n",
       "</table>\n",
       "</div>"
      ],
      "text/plain": [
       "        loss  accuracy  val_loss  val_accuracy      lr\n",
       "0   0.351879  0.889628  0.055569      0.982143  0.0010\n",
       "1   0.112138  0.966584  0.037544      0.988333  0.0010\n",
       "2   0.083053  0.974534  0.054431      0.984048  0.0010\n",
       "3   0.070854  0.978641  0.050118      0.985714  0.0010\n",
       "4   0.060215  0.981106  0.032247      0.990000  0.0010\n",
       "5   0.055217  0.983173  0.029822      0.990476  0.0010\n",
       "6   0.052300  0.983756  0.045765      0.984048  0.0010\n",
       "7   0.050647  0.985001  0.034097      0.989762  0.0010\n",
       "8   0.045040  0.986273  0.026338      0.992381  0.0010\n",
       "9   0.043811  0.986591  0.027833      0.989762  0.0010\n",
       "10  0.045118  0.986485  0.021812      0.993095  0.0010\n",
       "11  0.038223  0.988367  0.031420      0.991190  0.0010\n",
       "12  0.040076  0.987837  0.029933      0.990952  0.0010\n",
       "13  0.037070  0.988764  0.046695      0.987381  0.0010\n",
       "14  0.032518  0.990407  0.019685      0.993810  0.0005\n",
       "15  0.029743  0.991070  0.028778      0.991905  0.0005\n",
       "16  0.029858  0.991176  0.021612      0.994286  0.0005\n",
       "17  0.027591  0.991759  0.025716      0.993810  0.0005\n",
       "18  0.028661  0.991414  0.023325      0.993333  0.0005\n",
       "19  0.028749  0.990752  0.021707      0.993571  0.0005"
      ]
     },
     "execution_count": 69,
     "metadata": {},
     "output_type": "execute_result"
    }
   ],
   "source": [
    "eval = pd.DataFrame(h.history)\n",
    "eval"
   ]
  },
  {
   "cell_type": "code",
   "execution_count": 76,
   "id": "f1d62f5c",
   "metadata": {},
   "outputs": [
    {
     "data": {
      "text/plain": [
       "<matplotlib.legend.Legend at 0x21400702f40>"
      ]
     },
     "execution_count": 76,
     "metadata": {},
     "output_type": "execute_result"
    },
    {
     "data": {
      "image/png": "[encoded data removed]",
      "text/plain": [
       "<Figure size 1008x360 with 2 Axes>"
      ]
     },
     "metadata": {
      "needs_background": "light"
     },
     "output_type": "display_data"
    }
   ],
   "source": [
    "fig,axes = plt.subplots(nrows=1, ncols=2,figsize=(14,5))\n",
    "axes[0].plot(eval['accuracy'], 'orange', label='Training accuracy')\n",
    "axes[0].plot(eval['val_accuracy'], 'b', label='Validation accuracy')\n",
    "axes[0].set_title('Training and validation accuracy')\n",
    "axes[0].legend()\n",
    "axes[1].plot(eval['loss'], 'orange', label='Training loss')\n",
    "axes[1].plot(eval['val_loss'], 'b', label='Validation loss')\n",
    "axes[1].set_title('Training and validation loss')\n",
    "axes[1].legend()"
   ]
  },
  {
   "cell_type": "code",
   "execution_count": 80,
   "id": "2286c998",
   "metadata": {},
   "outputs": [
    {
     "data": {
      "text/plain": [
       "array([False, False, False, ..., False, False, False])"
      ]
     },
     "execution_count": 80,
     "metadata": {},
     "output_type": "execute_result"
    }
   ],
   "source": [
    "errors = predictions - Y_true != 0\n",
    "errors"
   ]
  },
  {
   "cell_type": "code",
   "execution_count": 93,
   "id": "e5a967e2",
   "metadata": {},
   "outputs": [],
   "source": [
    "pred_errors = predictions[errors]"
   ]
  },
  {
   "cell_type": "code",
   "execution_count": 94,
   "id": "2af77835",
   "metadata": {},
   "outputs": [],
   "source": [
    "Y_errors = Y_true[errors]"
   ]
  },
  {
   "cell_type": "code",
   "execution_count": 86,
   "id": "5506b3d3",
   "metadata": {},
   "outputs": [],
   "source": [
    "X_errors = X_val[errors]"
   ]
  },
  {
   "cell_type": "code",
   "execution_count": 96,
   "id": "dd10242f",
   "metadata": {},
   "outputs": [
    {
     "data": {
      "image/png": "[encoded data removed]",
      "text/plain": [
       "<Figure size 1080x360 with 27 Axes>"
      ]
     },
     "metadata": {
      "needs_background": "light"
     },
     "output_type": "display_data"
    }
   ],
   "source": [
    "plt.figure(figsize=(15,5))\n",
    "itr1, itr2 = 9, 3\n",
    "for i in range(27):  \n",
    "    plt.subplot(itr2, itr1, i+1)\n",
    "    plt.imshow(X_errors[i],interpolation='nearest',cmap='gray')\n",
    "    plt.title(\"Predicted label :{}\\nTrue label :{}\".format(pred_errors[i],Y_errors[i]))\n",
    "plt.tight_layout()\n",
    "plt.show()"
   ]
  },
  {
   "cell_type": "code",
   "execution_count": 97,
   "id": "6ffa674a",
   "metadata": {},
   "outputs": [
    {
     "name": "stdout",
     "output_type": "stream",
     "text": [
      "              precision    recall  f1-score   support\n",
      "\n",
      "     Class 0       1.00      1.00      1.00       408\n",
      "     Class 1       1.00      0.99      0.99       471\n",
      "     Class 2       0.99      0.99      0.99       420\n",
      "     Class 3       1.00      0.99      1.00       506\n",
      "     Class 4       1.00      0.99      1.00       397\n",
      "     Class 5       0.99      0.99      0.99       339\n",
      "     Class 6       1.00      1.00      1.00       402\n",
      "     Class 7       1.00      1.00      1.00       438\n",
      "     Class 8       0.97      1.00      0.99       403\n",
      "     Class 9       1.00      0.99      0.99       416\n",
      "\n",
      "    accuracy                           0.99      4200\n",
      "   macro avg       0.99      0.99      0.99      4200\n",
      "weighted avg       0.99      0.99      0.99      4200\n",
      "\n"
     ]
    }
   ],
   "source": [
    "from sklearn.metrics import classification_report\n",
    "target_names = [\"Class {}\".format(i) for i in range(num_classes)]\n",
    "print(classification_report(Y_true, predictions, target_names=target_names))"
   ]
  },
  {
   "cell_type": "code",
   "execution_count": 98,
   "id": "7500773e",
   "metadata": {},
   "outputs": [],
   "source": [
    "model.save('project_1_model.h5')"
   ]
  },
  {
   "cell_type": "code",
   "execution_count": 99,
   "id": "560efe3d",
   "metadata": {},
   "outputs": [],
   "source": [
    "json_string = model.to_json()"
   ]
  },
  {
   "cell_type": "markdown",
   "id": "3ff77442",
   "metadata": {},
   "source": [
    "## Working on new image"
   ]
  },
  {
   "cell_type": "code",
   "execution_count": 104,
   "id": "b10a1ac5",
   "metadata": {},
   "outputs": [],
   "source": [
    "from keras.preprocessing.image import load_img, img_to_array"
   ]
  },
  {
   "cell_type": "code",
   "execution_count": 161,
   "id": "8b281208",
   "metadata": {},
   "outputs": [],
   "source": [
    "image = load_img(\"C:\\\\Users\\\\Aryan Yadav\\\\Documents\\\\Jupyter NBS\\\\images\\\\pic.jpg\",color_mode='grayscale',target_size=(28,28))"
   ]
  },
  {
   "cell_type": "code",
   "execution_count": 162,
   "id": "2c28754e",
   "metadata": {},
   "outputs": [],
   "source": [
    "arr = img_to_array(image)"
   ]
  },
  {
   "cell_type": "code",
   "execution_count": 163,
   "id": "e12bebc4",
   "metadata": {},
   "outputs": [],
   "source": [
    "arr = (255.0-arr)"
   ]
  },
  {
   "cell_type": "code",
   "execution_count": 164,
   "id": "ceb0a80b",
   "metadata": {},
   "outputs": [],
   "source": [
    "arr = arr/255.0"
   ]
  },
  {
   "cell_type": "code",
   "execution_count": 165,
   "id": "328af63f",
   "metadata": {},
   "outputs": [],
   "source": [
    "arr = arr.reshape(1,28,28,1)"
   ]
  },
  {
   "cell_type": "code",
   "execution_count": 166,
   "id": "a920d2c2",
   "metadata": {},
   "outputs": [],
   "source": [
    "pred = np.argmax(model.predict(arr), axis=-1)"
   ]
  },
  {
   "cell_type": "code",
   "execution_count": 167,
   "id": "4dd7885f",
   "metadata": {},
   "outputs": [
    {
     "data": {
      "text/plain": [
       "array([2], dtype=int64)"
      ]
     },
     "execution_count": 167,
     "metadata": {},
     "output_type": "execute_result"
    }
   ],
   "source": [
    "pred"
   ]
  },
  {
   "cell_type": "code",
   "execution_count": 171,
   "id": "e67c6998",
   "metadata": {},
   "outputs": [
    {
     "data": {
      "text/html": [
       "<div>\n",
       "<style scoped>\n",
       "    .dataframe tbody tr th:only-of-type {\n",
       "        vertical-align: middle;\n",
       "    }\n",
       "\n",
       "    .dataframe tbody tr th {\n",
       "        vertical-align: top;\n",
       "    }\n",
       "\n",
       "    .dataframe thead th {\n",
       "        text-align: right;\n",
       "    }\n",
       "</style>\n",
       "<table border=\"1\" class=\"dataframe\">\n",
       "  <thead>\n",
       "    <tr style=\"text-align: right;\">\n",
       "      <th></th>\n",
       "      <th>loss</th>\n",
       "      <th>accuracy</th>\n",
       "      <th>val_loss</th>\n",
       "      <th>val_accuracy</th>\n",
       "      <th>lr</th>\n",
       "    </tr>\n",
       "  </thead>\n",
       "  <tbody>\n",
       "    <tr>\n",
       "      <th>0</th>\n",
       "      <td>0.351879</td>\n",
       "      <td>0.889628</td>\n",
       "      <td>0.055569</td>\n",
       "      <td>0.982143</td>\n",
       "      <td>0.0010</td>\n",
       "    </tr>\n",
       "    <tr>\n",
       "      <th>1</th>\n",
       "      <td>0.112138</td>\n",
       "      <td>0.966584</td>\n",
       "      <td>0.037544</td>\n",
       "      <td>0.988333</td>\n",
       "      <td>0.0010</td>\n",
       "    </tr>\n",
       "    <tr>\n",
       "      <th>2</th>\n",
       "      <td>0.083053</td>\n",
       "      <td>0.974534</td>\n",
       "      <td>0.054431</td>\n",
       "      <td>0.984048</td>\n",
       "      <td>0.0010</td>\n",
       "    </tr>\n",
       "    <tr>\n",
       "      <th>3</th>\n",
       "      <td>0.070854</td>\n",
       "      <td>0.978641</td>\n",
       "      <td>0.050118</td>\n",
       "      <td>0.985714</td>\n",
       "      <td>0.0010</td>\n",
       "    </tr>\n",
       "    <tr>\n",
       "      <th>4</th>\n",
       "      <td>0.060215</td>\n",
       "      <td>0.981106</td>\n",
       "      <td>0.032247</td>\n",
       "      <td>0.990000</td>\n",
       "      <td>0.0010</td>\n",
       "    </tr>\n",
       "    <tr>\n",
       "      <th>5</th>\n",
       "      <td>0.055217</td>\n",
       "      <td>0.983173</td>\n",
       "      <td>0.029822</td>\n",
       "      <td>0.990476</td>\n",
       "      <td>0.0010</td>\n",
       "    </tr>\n",
       "    <tr>\n",
       "      <th>6</th>\n",
       "      <td>0.052300</td>\n",
       "      <td>0.983756</td>\n",
       "      <td>0.045765</td>\n",
       "      <td>0.984048</td>\n",
       "      <td>0.0010</td>\n",
       "    </tr>\n",
       "    <tr>\n",
       "      <th>7</th>\n",
       "      <td>0.050647</td>\n",
       "      <td>0.985001</td>\n",
       "      <td>0.034097</td>\n",
       "      <td>0.989762</td>\n",
       "      <td>0.0010</td>\n",
       "    </tr>\n",
       "    <tr>\n",
       "      <th>8</th>\n",
       "      <td>0.045040</td>\n",
       "      <td>0.986273</td>\n",
       "      <td>0.026338</td>\n",
       "      <td>0.992381</td>\n",
       "      <td>0.0010</td>\n",
       "    </tr>\n",
       "    <tr>\n",
       "      <th>9</th>\n",
       "      <td>0.043811</td>\n",
       "      <td>0.986591</td>\n",
       "      <td>0.027833</td>\n",
       "      <td>0.989762</td>\n",
       "      <td>0.0010</td>\n",
       "    </tr>\n",
       "    <tr>\n",
       "      <th>10</th>\n",
       "      <td>0.045118</td>\n",
       "      <td>0.986485</td>\n",
       "      <td>0.021812</td>\n",
       "      <td>0.993095</td>\n",
       "      <td>0.0010</td>\n",
       "    </tr>\n",
       "    <tr>\n",
       "      <th>11</th>\n",
       "      <td>0.038223</td>\n",
       "      <td>0.988367</td>\n",
       "      <td>0.031420</td>\n",
       "      <td>0.991190</td>\n",
       "      <td>0.0010</td>\n",
       "    </tr>\n",
       "    <tr>\n",
       "      <th>12</th>\n",
       "      <td>0.040076</td>\n",
       "      <td>0.987837</td>\n",
       "      <td>0.029933</td>\n",
       "      <td>0.990952</td>\n",
       "      <td>0.0010</td>\n",
       "    </tr>\n",
       "    <tr>\n",
       "      <th>13</th>\n",
       "      <td>0.037070</td>\n",
       "      <td>0.988764</td>\n",
       "      <td>0.046695</td>\n",
       "      <td>0.987381</td>\n",
       "      <td>0.0010</td>\n",
       "    </tr>\n",
       "    <tr>\n",
       "      <th>14</th>\n",
       "      <td>0.032518</td>\n",
       "      <td>0.990407</td>\n",
       "      <td>0.019685</td>\n",
       "      <td>0.993810</td>\n",
       "      <td>0.0005</td>\n",
       "    </tr>\n",
       "    <tr>\n",
       "      <th>15</th>\n",
       "      <td>0.029743</td>\n",
       "      <td>0.991070</td>\n",
       "      <td>0.028778</td>\n",
       "      <td>0.991905</td>\n",
       "      <td>0.0005</td>\n",
       "    </tr>\n",
       "    <tr>\n",
       "      <th>16</th>\n",
       "      <td>0.029858</td>\n",
       "      <td>0.991176</td>\n",
       "      <td>0.021612</td>\n",
       "      <td>0.994286</td>\n",
       "      <td>0.0005</td>\n",
       "    </tr>\n",
       "    <tr>\n",
       "      <th>17</th>\n",
       "      <td>0.027591</td>\n",
       "      <td>0.991759</td>\n",
       "      <td>0.025716</td>\n",
       "      <td>0.993810</td>\n",
       "      <td>0.0005</td>\n",
       "    </tr>\n",
       "    <tr>\n",
       "      <th>18</th>\n",
       "      <td>0.028661</td>\n",
       "      <td>0.991414</td>\n",
       "      <td>0.023325</td>\n",
       "      <td>0.993333</td>\n",
       "      <td>0.0005</td>\n",
       "    </tr>\n",
       "    <tr>\n",
       "      <th>19</th>\n",
       "      <td>0.028749</td>\n",
       "      <td>0.990752</td>\n",
       "      <td>0.021707</td>\n",
       "      <td>0.993571</td>\n",
       "      <td>0.0005</td>\n",
       "    </tr>\n",
       "  </tbody>\n",
       "</table>\n",
       "</div>"
      ],
      "text/plain": [
       "        loss  accuracy  val_loss  val_accuracy      lr\n",
       "0   0.351879  0.889628  0.055569      0.982143  0.0010\n",
       "1   0.112138  0.966584  0.037544      0.988333  0.0010\n",
       "2   0.083053  0.974534  0.054431      0.984048  0.0010\n",
       "3   0.070854  0.978641  0.050118      0.985714  0.0010\n",
       "4   0.060215  0.981106  0.032247      0.990000  0.0010\n",
       "5   0.055217  0.983173  0.029822      0.990476  0.0010\n",
       "6   0.052300  0.983756  0.045765      0.984048  0.0010\n",
       "7   0.050647  0.985001  0.034097      0.989762  0.0010\n",
       "8   0.045040  0.986273  0.026338      0.992381  0.0010\n",
       "9   0.043811  0.986591  0.027833      0.989762  0.0010\n",
       "10  0.045118  0.986485  0.021812      0.993095  0.0010\n",
       "11  0.038223  0.988367  0.031420      0.991190  0.0010\n",
       "12  0.040076  0.987837  0.029933      0.990952  0.0010\n",
       "13  0.037070  0.988764  0.046695      0.987381  0.0010\n",
       "14  0.032518  0.990407  0.019685      0.993810  0.0005\n",
       "15  0.029743  0.991070  0.028778      0.991905  0.0005\n",
       "16  0.029858  0.991176  0.021612      0.994286  0.0005\n",
       "17  0.027591  0.991759  0.025716      0.993810  0.0005\n",
       "18  0.028661  0.991414  0.023325      0.993333  0.0005\n",
       "19  0.028749  0.990752  0.021707      0.993571  0.0005"
      ]
     },
     "execution_count": 171,
     "metadata": {},
     "output_type": "execute_result"
    }
   ],
   "source": [
    "history_df = pd.DataFrame(h.history)\n",
    "history_df"
   ]
  },
  {
   "cell_type": "code",
   "execution_count": 172,
   "id": "8a2eedfc",
   "metadata": {},
   "outputs": [],
   "source": [
    "history_df.to_csv(\"training_history.csv\",index=False)"
   ]
  }
 ],
 "metadata": {
  "kernelspec": {
   "display_name": "Python 3",
   "language": "python",
   "name": "python3"
  },
  "language_info": {
   "codemirror_mode": {
    "name": "ipython",
    "version": 3
   },
   "file_extension": ".py",
   "mimetype": "text/x-python",
   "name": "python",
   "nbconvert_exporter": "python",
   "pygments_lexer": "ipython3",
   "version": "3.8.8"
  }
 },
 "nbformat": 4,
 "nbformat_minor": 5
}
